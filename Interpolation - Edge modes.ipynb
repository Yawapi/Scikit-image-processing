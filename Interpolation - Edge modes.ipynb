{
 "cells": [
  {
   "cell_type": "markdown",
   "metadata": {},
   "source": [
    "# Interpolation: Edge modes\n",
    "### Dr. Tirthajyoti Sarkar, Fremont, CA 94536\n",
    "\n",
    "This example illustrates the different edge modes available during interpolation in routines such as `skimage.transform.rescale()` and `skimage.transform.resize()`."
   ]
  },
  {
   "cell_type": "code",
   "execution_count": 1,
   "metadata": {},
   "outputs": [],
   "source": [
    "import numpy as np\n",
    "import matplotlib.pyplot as plt\n",
    "\n",
    "from skimage.util import pad"
   ]
  },
  {
   "cell_type": "markdown",
   "metadata": {},
   "source": [
    "### Prepare data"
   ]
  },
  {
   "cell_type": "code",
   "execution_count": 2,
   "metadata": {},
   "outputs": [],
   "source": [
    "img = np.zeros((16, 16))\n",
    "img[:8, :8] += 1\n",
    "img[:4, :4] += 1\n",
    "img[:2, :2] += 1\n",
    "img[:1, :1] += 2\n",
    "img[8, 8] = 4"
   ]
  },
  {
   "cell_type": "markdown",
   "metadata": {},
   "source": [
    "### Show"
   ]
  },
  {
   "cell_type": "code",
   "execution_count": 4,
   "metadata": {},
   "outputs": [
    {
     "data": {
      "image/png": "[encoded data removed]",
      "text/plain": [
       "<Figure size 720x432 with 6 Axes>"
      ]
     },
     "metadata": {},
     "output_type": "display_data"
    }
   ],
   "source": [
    "modes = ['constant', 'edge', 'wrap', 'reflect', 'symmetric']\n",
    "fig, axes = plt.subplots(nrows=2, ncols=3,figsize=(10,6))\n",
    "ax = axes.flatten()\n",
    "\n",
    "for n, mode in enumerate(modes):\n",
    "    img_padded = pad(img, pad_width=img.shape[0], mode=mode)\n",
    "    ax[n].imshow(img_padded, cmap=plt.cm.gray, interpolation='nearest')\n",
    "    ax[n].plot([15.5, 15.5, 31.5, 31.5, 15.5],\n",
    "               [15.5, 31.5, 31.5, 15.5, 15.5], 'y--', linewidth=0.5)\n",
    "    ax[n].set_title(mode)\n",
    "\n",
    "for a in ax:\n",
    "    a.set_axis_off()\n",
    "    a.set_aspect('equal')\n",
    "\n",
    "plt.tight_layout()\n",
    "plt.show()"
   ]
  }
 ],
 "metadata": {
  "kernelspec": {
   "display_name": "Python 3",
   "language": "python",
   "name": "python3"
  },
  "language_info": {
   "codemirror_mode": {
    "name": "ipython",
    "version": 3
   },
   "file_extension": ".py",
   "mimetype": "text/x-python",
   "name": "python",
   "nbconvert_exporter": "python",
   "pygments_lexer": "ipython3",
   "version": "3.6.2"
  },
  "latex_envs": {
   "LaTeX_envs_menu_present": true,
   "autoclose": false,
   "autocomplete": true,
   "bibliofile": "biblio.bib",
   "cite_by": "apalike",
   "current_citInitial": 1,
   "eqLabelWithNumbers": true,
   "eqNumInitial": 1,
   "hotkeys": {
    "equation": "Ctrl-E",
    "itemize": "Ctrl-I"
   },
   "labels_anchors": false,
   "latex_user_defs": false,
   "report_style_numbering": false,
   "user_envs_cfg": false
  }
 },
 "nbformat": 4,
 "nbformat_minor": 2
}
